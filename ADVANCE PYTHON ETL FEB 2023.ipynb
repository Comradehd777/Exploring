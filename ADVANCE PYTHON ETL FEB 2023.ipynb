{
 "cells": [
  {
   "cell_type": "code",
   "execution_count": 1,
   "metadata": {},
   "outputs": [
    {
     "name": "stdout",
     "output_type": "stream",
     "text": [
      "hey the college in which i am persuing my engineering is  dhole patil college\n",
      "I am of 22 years of old \n",
      "I am from computer department \n",
      "Also i am persuing my  B tech\n",
      "the total strength of my department is  190\n",
      "i belong to  dhole patil college\n",
      "the name of the bird is  peacock  it cannot fly  also cannot swim \n",
      "hey the college in which i am persuing my engineering is  AISSMS\n",
      "I am of 45 years of old \n",
      "I am from electrical department \n",
      "Also i am persuing my  BE in comp\n",
      "the total strength of my department is  45\n",
      "i belong to  AISSMS\n",
      "the name of the bird is  hen  cannot fly  cant swim even \n"
     ]
    }
   ],
   "source": [
    "class dpcoe:\n",
    "    def __init__(self,colg,dept,total,degr):\n",
    "        self._colg = colg\n",
    "        self._dept = dept\n",
    "        self.total = total\n",
    "        self.degr = degr\n",
    "        \n",
    "    def call(self,age):\n",
    "        self.age = age\n",
    "        print(\"hey the college in which i am persuing my engineering is \",self._colg)\n",
    "        print('I am of '  +  age  +  ' years of old ')\n",
    "        \n",
    "    def j(self):\n",
    "        print(\"I am from \" + self._dept  +  ' department ')\n",
    "        print(\"Also i am persuing my \",self.degr)\n",
    "        print(\"the total strength of my department is \",self.total)\n",
    "        print(\"i belong to \",self._colg)\n",
    "        \n",
    "        \n",
    "    def bird(self,name,fly,swim):\n",
    "        self.name = name\n",
    "        self.fly = fly\n",
    "        self.swim = swim\n",
    "        print('the name of the bird is ' + name  +  fly + swim)\n",
    "\n",
    "harsh = dpcoe('dhole patil college','computer','190','B tech')\n",
    "harsh.call('22')\n",
    "harsh.j()\n",
    "harsh.bird(' peacock ',' it cannot fly ',' also cannot swim ')\n",
    "\n",
    "info = dpcoe('AISSMS','electrical','45','BE in comp')\n",
    "info.call('45')\n",
    "info.j()\n",
    "info.bird(' hen ',' cannot fly ',' cant swim even ')\n",
    "        \n",
    "        "
   ]
  },
  {
   "cell_type": "code",
   "execution_count": 2,
   "metadata": {},
   "outputs": [],
   "source": [
    "class car:\n",
    "    def hd(self,company ='hyundai',model ='venue',typ ='sedan',horsp = 4567):\n",
    "        self.company = company\n",
    "        self.model = model\n",
    "        self.typ = typ\n",
    "        self.horsp = horsp\n",
    "        print('my fav car is ',company)\n",
    "        print('its horse power is ',horsp)\n",
    "class inherit(car):\n",
    "    def chinks(self):\n",
    "        print(\"the name of the model is\",self.model)\n",
    "    \n",
    "\n",
    "        "
   ]
  },
  {
   "cell_type": "code",
   "execution_count": 3,
   "metadata": {},
   "outputs": [
    {
     "name": "stdout",
     "output_type": "stream",
     "text": [
      "my fav car is  hyundai\n",
      "its horse power is  4567\n",
      "the name of the model is venue\n"
     ]
    }
   ],
   "source": [
    "prakat = inherit()\n",
    "prakat.hd()\n",
    "prakat.chinks()"
   ]
  },
  {
   "cell_type": "code",
   "execution_count": 4,
   "metadata": {},
   "outputs": [
    {
     "name": "stdout",
     "output_type": "stream",
     "text": [
      "this is the first class artifical it comes first\n",
      "under artificial int.. machine comes and like human\n",
      "now the third subset is deep learning and it is brian\n"
     ]
    }
   ],
   "source": [
    "class artificial:                                                   ## parent class 1st\n",
    "    def main(self,tech,cat):\n",
    "        self.tech = tech\n",
    "        self.cat = cat\n",
    "        print('this is the first class ' + tech + ' it comes ' + cat)\n",
    "class machine(artificial):                                          # child classs 1\n",
    "    def secon(self,domain,cat2):\n",
    "        self.domain = domain\n",
    "        self.cat2 = cat2\n",
    "        print('under artificial int.. ' + domain + ' comes and ' + cat2)\n",
    "class deep(machine):                                                         ## child class 3\n",
    "    def third(self,domain3,cat3): \n",
    "        self.domain3 = domain3\n",
    "        self.cat3 = cat3\n",
    "        print('now the third subset is ' + domain3 + ' and it is ' + cat3)\n",
    "    \n",
    "era = deep()\n",
    "\n",
    "era.main('artifical','first')\n",
    "era.secon('machine','like human')\n",
    "era.third('deep learning','brian')\n"
   ]
  },
  {
   "cell_type": "code",
   "execution_count": 5,
   "metadata": {},
   "outputs": [],
   "source": [
    "class sports:\n",
    "    def cricket(self,name,age,career,win):\n",
    "        self.name = name\n",
    "        self.age = age\n",
    "        self.career = career\n",
    "        self.win = win\n",
    "        print('one of run machine in cricket is ' +  name)\n",
    "class sports2(sports):\n",
    "    def badminton(self,name,win):\n",
    "        print('the most famous player in badminton is',self.name)\n",
    "        print('she had won tournaments',self.win)\n",
    "        \n",
    "class fifa(sports2):\n",
    "    def football(self,name,age):\n",
    "        print('the world knows the best fifa player his name is',self.name)\n",
    "        print(\"christiano ronaldo's age is\",self.age)\n",
    "        \n",
    "        \n",
    "        \n",
    "    \n",
    "        "
   ]
  },
  {
   "cell_type": "code",
   "execution_count": 6,
   "metadata": {},
   "outputs": [
    {
     "name": "stdout",
     "output_type": "stream",
     "text": [
      "one of run machine in cricket is virat kohli\n",
      "the most famous player in badminton is virat kohli\n",
      "she had won tournaments 45\n",
      "the world knows the best fifa player his name is virat kohli\n",
      "christiano ronaldo's age is 39\n"
     ]
    }
   ],
   "source": [
    "khel = fifa()\n",
    "\n",
    "khel.cricket('virat kohli','39','batsman','45')\n",
    "\n",
    "khel.badminton('Sindhu','32')\n",
    "\n",
    "khel.football('ronaldo','29')"
   ]
  },
  {
   "cell_type": "markdown",
   "metadata": {},
   "source": [
    "# string"
   ]
  },
  {
   "cell_type": "code",
   "execution_count": 7,
   "metadata": {},
   "outputs": [
    {
     "name": "stdout",
     "output_type": "stream",
     "text": [
      "hey listen\n"
     ]
    }
   ],
   "source": [
    "hd1 = 'hey listen harshal u have to improve urself'\n",
    "print(hd1[0:10])"
   ]
  },
  {
   "cell_type": "markdown",
   "metadata": {},
   "source": [
    "# in string data types concatination is done by merging to alphabetical characters in \"\""
   ]
  },
  {
   "cell_type": "code",
   "execution_count": 8,
   "metadata": {},
   "outputs": [],
   "source": [
    "a = 'jyvytvhtv'\n",
    "b = 'iiyvtfiiuh'\n",
    "s = a + b"
   ]
  },
  {
   "cell_type": "code",
   "execution_count": 9,
   "metadata": {},
   "outputs": [
    {
     "data": {
      "text/plain": [
       "'jyvytvhtviiyvtfiiuh'"
      ]
     },
     "execution_count": 9,
     "metadata": {},
     "output_type": "execute_result"
    }
   ],
   "source": [
    "s"
   ]
  },
  {
   "cell_type": "markdown",
   "metadata": {},
   "source": [
    "# String formatting"
   ]
  },
  {
   "cell_type": "code",
   "execution_count": 10,
   "metadata": {},
   "outputs": [],
   "source": [
    "formatt = (\"{1},{3},{0},{2}\".format('harshal','dhapate','omkar','dj'))"
   ]
  },
  {
   "cell_type": "code",
   "execution_count": 11,
   "metadata": {},
   "outputs": [
    {
     "data": {
      "text/plain": [
       "'dhapate,dj,harshal,omkar'"
      ]
     },
     "execution_count": 11,
     "metadata": {},
     "output_type": "execute_result"
    }
   ],
   "source": [
    "formatt"
   ]
  },
  {
   "cell_type": "markdown",
   "metadata": {},
   "source": [
    "# string functions"
   ]
  },
  {
   "cell_type": "code",
   "execution_count": 12,
   "metadata": {},
   "outputs": [],
   "source": [
    "my = \"hello guys and baffled guy\"\n"
   ]
  },
  {
   "cell_type": "code",
   "execution_count": 13,
   "metadata": {},
   "outputs": [
    {
     "data": {
      "text/plain": [
       "'Hello guys and baffled guy'"
      ]
     },
     "execution_count": 13,
     "metadata": {},
     "output_type": "execute_result"
    }
   ],
   "source": [
    "my.capitalize()"
   ]
  },
  {
   "cell_type": "code",
   "execution_count": 14,
   "metadata": {},
   "outputs": [
    {
     "data": {
      "text/plain": [
       "['hello', 'guys', 'and', 'baffled', 'guy']"
      ]
     },
     "execution_count": 14,
     "metadata": {},
     "output_type": "execute_result"
    }
   ],
   "source": [
    "my.split()"
   ]
  },
  {
   "cell_type": "code",
   "execution_count": 15,
   "metadata": {},
   "outputs": [
    {
     "data": {
      "text/plain": [
       "'HELLO GUYS AND BAFFLED GUY'"
      ]
     },
     "execution_count": 15,
     "metadata": {},
     "output_type": "execute_result"
    }
   ],
   "source": [
    "my.upper()"
   ]
  },
  {
   "cell_type": "code",
   "execution_count": 16,
   "metadata": {},
   "outputs": [],
   "source": [
    "wassup = 'Work HArd bRo'\n"
   ]
  },
  {
   "cell_type": "code",
   "execution_count": 17,
   "metadata": {},
   "outputs": [
    {
     "data": {
      "text/plain": [
       "'wORK haRD BrO'"
      ]
     },
     "execution_count": 17,
     "metadata": {},
     "output_type": "execute_result"
    }
   ],
   "source": [
    "wassup.swapcase()"
   ]
  },
  {
   "cell_type": "code",
   "execution_count": 18,
   "metadata": {},
   "outputs": [
    {
     "data": {
      "text/plain": [
       "True"
      ]
     },
     "execution_count": 18,
     "metadata": {},
     "output_type": "execute_result"
    }
   ],
   "source": [
    "wassup.endswith('o')"
   ]
  },
  {
   "cell_type": "code",
   "execution_count": 19,
   "metadata": {},
   "outputs": [],
   "source": [
    "cent = 'jai bajranhbal jai hanumnan jai jai jai hanuman'"
   ]
  },
  {
   "cell_type": "code",
   "execution_count": 20,
   "metadata": {},
   "outputs": [
    {
     "data": {
      "text/plain": [
       "'                          jai bajranhbal jai hanumnan jai jai jai hanuman                           '"
      ]
     },
     "execution_count": 20,
     "metadata": {},
     "output_type": "execute_result"
    }
   ],
   "source": [
    "cent.center(100)"
   ]
  },
  {
   "cell_type": "code",
   "execution_count": 21,
   "metadata": {},
   "outputs": [],
   "source": [
    "sign = '@#$%$# harshal@gkjnbjj'"
   ]
  },
  {
   "cell_type": "code",
   "execution_count": 22,
   "metadata": {},
   "outputs": [
    {
     "data": {
      "text/plain": [
       "['@#$%$# harshal@gkjnbjj']"
      ]
     },
     "execution_count": 22,
     "metadata": {},
     "output_type": "execute_result"
    }
   ],
   "source": [
    "sign.splitlines()"
   ]
  },
  {
   "cell_type": "code",
   "execution_count": 23,
   "metadata": {},
   "outputs": [
    {
     "data": {
      "text/plain": [
       "'@#$%$# harshal@gkjnbjj'"
      ]
     },
     "execution_count": 23,
     "metadata": {},
     "output_type": "execute_result"
    }
   ],
   "source": [
    "sign.casefold()"
   ]
  },
  {
   "cell_type": "code",
   "execution_count": 24,
   "metadata": {},
   "outputs": [
    {
     "data": {
      "text/plain": [
       "False"
      ]
     },
     "execution_count": 24,
     "metadata": {},
     "output_type": "execute_result"
    }
   ],
   "source": [
    "sign.isalnum()"
   ]
  },
  {
   "cell_type": "code",
   "execution_count": 25,
   "metadata": {},
   "outputs": [
    {
     "data": {
      "text/plain": [
       "True"
      ]
     },
     "execution_count": 25,
     "metadata": {},
     "output_type": "execute_result"
    }
   ],
   "source": [
    "dig = \"8765432\"\n",
    "dig.isalnum()"
   ]
  },
  {
   "cell_type": "code",
   "execution_count": 26,
   "metadata": {},
   "outputs": [
    {
     "data": {
      "text/plain": [
       "('', '8765432', '')"
      ]
     },
     "execution_count": 26,
     "metadata": {},
     "output_type": "execute_result"
    }
   ],
   "source": [
    "dig.partition(\"8765432\")"
   ]
  },
  {
   "cell_type": "code",
   "execution_count": 27,
   "metadata": {},
   "outputs": [
    {
     "name": "stdout",
     "output_type": "stream",
     "text": [
      "the girl who u loved the most -akshara\n",
      "the girl i loved the most her name was akshara\n",
      "hd loves her\n"
     ]
    }
   ],
   "source": [
    "class friend:\n",
    "    def best(self,h = str(input(\"the girl who u loved the most -\"))):\n",
    "        self.h = h\n",
    "        print(\"the girl i loved the most her name was\",h)\n",
    "        \n",
    "        if 'akshara' in h:\n",
    "            print(\"hd loves her\")\n",
    "        \n",
    "        \n",
    "        \n",
    "        \n",
    "        \n",
    "back = friend()\n",
    "back.best()\n",
    "        \n",
    "    \n",
    "    "
   ]
  },
  {
   "cell_type": "code",
   "execution_count": null,
   "metadata": {},
   "outputs": [],
   "source": []
  },
  {
   "cell_type": "code",
   "execution_count": 28,
   "metadata": {},
   "outputs": [
    {
     "name": "stdout",
     "output_type": "stream",
     "text": [
      "the captain of chennai super kings is MS DHONI\n",
      "           chennai\n",
      "0         MS Dhoni\n",
      "1        Moeen Ali\n",
      "2  Ruturaj Gaikwad\n",
      "3  Ravindra Jadeja\n",
      "4    Robin Uthappa\n",
      "5     Dwayne Bravo\n",
      "6    Ambati Rayudu\n",
      "7    Deepak Chahar\n",
      "8          KM Asif\n",
      "9      Shivam Dube\n"
     ]
    },
    {
     "ename": "TypeError",
     "evalue": "MI() takes 0 positional arguments but 2 were given",
     "output_type": "error",
     "traceback": [
      "\u001b[1;31m---------------------------------------------------------------------------\u001b[0m",
      "\u001b[1;31mTypeError\u001b[0m                                 Traceback (most recent call last)",
      "\u001b[1;32m<ipython-input-28-9931e1ef8887>\u001b[0m in \u001b[0;36m<module>\u001b[1;34m\u001b[0m\n\u001b[0;32m     37\u001b[0m \u001b[1;33m\u001b[0m\u001b[0m\n\u001b[0;32m     38\u001b[0m \u001b[0mipl_teams\u001b[0m\u001b[1;33m.\u001b[0m\u001b[0mcsk\u001b[0m\u001b[1;33m(\u001b[0m\u001b[1;34m'MS DHONI'\u001b[0m\u001b[1;33m)\u001b[0m\u001b[1;33m\u001b[0m\u001b[1;33m\u001b[0m\u001b[0m\n\u001b[1;32m---> 39\u001b[1;33m \u001b[0mipl_teams\u001b[0m\u001b[1;33m.\u001b[0m\u001b[0mMI\u001b[0m\u001b[1;33m(\u001b[0m\u001b[1;34m'Sharma'\u001b[0m\u001b[1;33m)\u001b[0m\u001b[1;33m\u001b[0m\u001b[1;33m\u001b[0m\u001b[0m\n\u001b[0m\u001b[0;32m     40\u001b[0m \u001b[0mipl_teams\u001b[0m\u001b[1;33m.\u001b[0m\u001b[0mLSG\u001b[0m\u001b[1;33m(\u001b[0m\u001b[1;34m'KL RAHUL'\u001b[0m\u001b[1;33m)\u001b[0m\u001b[1;33m\u001b[0m\u001b[1;33m\u001b[0m\u001b[0m\n\u001b[0;32m     41\u001b[0m \u001b[1;33m\u001b[0m\u001b[0m\n",
      "\u001b[1;31mTypeError\u001b[0m: MI() takes 0 positional arguments but 2 were given"
     ]
    }
   ],
   "source": [
    "import pandas as pd\n",
    "class ipl_2023:\n",
    "    \n",
    "    def csk(self,cap):\n",
    "        self.cap = cap\n",
    "\n",
    "        print('the captain of chennai super kings is',cap)\n",
    "        disp = {'chennai':['MS Dhoni','Moeen Ali','Ruturaj Gaikwad','Ravindra Jadeja','Robin Uthappa','Dwayne Bravo','Ambati Rayudu','Deepak Chahar','KM Asif','Shivam Dube']}\n",
    "\n",
    "        out = pd.DataFrame(disp)\n",
    "        print(out)\n",
    "    def MI():\n",
    "        \n",
    "    \n",
    "        print(\"The captain of mumbai indians  is \",self.cap)\n",
    "        import pandas as pd\n",
    "        disp2 = {'mumbai':['Rohit Sharma','Tim David','Ramandeep Singh','Tilak Varma','Suryakumar Yadav','Ishan Kishan','Tristan Stubbs','Dewald Brevis','Jofra Archer','Jasprit Bumrah','Arjun Tendulkar','Arshad Khan','Kumar Kartikeya','Hrithik Shokeen','Jason Behrendorff','Akash Madhwal']}\n",
    "    \n",
    "        out1 = pd.DataFrame(disp2)\n",
    "        print(out1)\n",
    "        \n",
    "    def LSG():\n",
    "\n",
    "        print(\"The captain of lucknow super giants is \",self.cap)\n",
    "        import pandas as pd\n",
    "        disp3 = {'lucknow':[ 'KL Rahul', 'Marcus Stoinis', 'Quinton de Kock', 'Karan Sharma', 'Manan Vohra', 'Ayush Badoni', 'Ravi Bishnoi', 'Mohsin Khan', 'Mark Wood', 'Mayank Yadav',' Krunal Pandya', 'Avesh Khan', 'Kayal Mayer', 'Krishnappa', 'Gautam Deepak Hooda']}\n",
    "        out3 = pd.DataFrame(disp3)\n",
    "        print(out3)\n",
    "\n",
    "\n",
    "\n",
    "\n",
    "\n",
    "\n",
    "\n",
    "ipl_teams = ipl_2023()\n",
    "\n",
    "ipl_teams.csk('MS DHONI')\n",
    "ipl_teams.MI('Sharma')\n",
    "ipl_teams.LSG('KL RAHUL')\n",
    "\n",
    "\n",
    "\n",
    "\n",
    "\n",
    "\n",
    "\n",
    "\n",
    "\n",
    "\n",
    "\n",
    "\n",
    "\n",
    "\n",
    "\n",
    "\n",
    "\n"
   ]
  },
  {
   "cell_type": "markdown",
   "metadata": {},
   "source": [
    "# file handling"
   ]
  },
  {
   "cell_type": "code",
   "execution_count": null,
   "metadata": {},
   "outputs": [],
   "source": [
    "hars = open('dhappu.txt','w')\n",
    "hars.write('jiv zala yeda pisa')\n"
   ]
  },
  {
   "cell_type": "code",
   "execution_count": null,
   "metadata": {},
   "outputs": [],
   "source": [
    "hars = open('dhappu.txt','r')\n",
    "hars.read()"
   ]
  },
  {
   "cell_type": "code",
   "execution_count": null,
   "metadata": {},
   "outputs": [],
   "source": [
    "dhap = open(r'C:\\Users\\Harshal Vijaykumar D\\dhapate.txt','r')\n",
    "dhap.readlines()"
   ]
  },
  {
   "cell_type": "code",
   "execution_count": null,
   "metadata": {},
   "outputs": [],
   "source": [
    "dhap = open(r'C:\\Users\\Harshal Vijaykumar D\\dhapate.txt','w')\n",
    "dhap.write('again i am appending something')"
   ]
  },
  {
   "cell_type": "code",
   "execution_count": null,
   "metadata": {},
   "outputs": [],
   "source": [
    "dhap = open(r'C:\\Users\\Harshal Vijaykumar D\\dhapate.txt','r')\n",
    "dhap.readlines()"
   ]
  },
  {
   "cell_type": "code",
   "execution_count": null,
   "metadata": {},
   "outputs": [],
   "source": [
    "dhap = open(r'dhapate.txt','r')\n",
    "dhap.read()"
   ]
  },
  {
   "cell_type": "code",
   "execution_count": null,
   "metadata": {},
   "outputs": [],
   "source": [
    "import os"
   ]
  },
  {
   "cell_type": "code",
   "execution_count": null,
   "metadata": {},
   "outputs": [],
   "source": [
    "os.getcwd()"
   ]
  },
  {
   "cell_type": "code",
   "execution_count": null,
   "metadata": {},
   "outputs": [],
   "source": [
    "p = os.listdir()"
   ]
  },
  {
   "cell_type": "code",
   "execution_count": null,
   "metadata": {},
   "outputs": [],
   "source": [
    "p"
   ]
  },
  {
   "cell_type": "code",
   "execution_count": null,
   "metadata": {},
   "outputs": [],
   "source": [
    "p.remove('dhappu.txt')"
   ]
  },
  {
   "cell_type": "code",
   "execution_count": null,
   "metadata": {},
   "outputs": [],
   "source": [
    "import seaborn as sb\n",
    "sb.get_dataset_names()"
   ]
  },
  {
   "cell_type": "code",
   "execution_count": null,
   "metadata": {},
   "outputs": [],
   "source": [
    "import seaborn as sb\n",
    "k = sb.load_dataset('car_crashes')\n",
    "k.shape\n",
    "\n"
   ]
  },
  {
   "cell_type": "code",
   "execution_count": null,
   "metadata": {},
   "outputs": [],
   "source": [
    "ct = []\n",
    "cn = []\n",
    "\n",
    "for i in k.columns:\n",
    "    if(k[i].dtypes == 'object'):\n",
    "        ct.append(i)\n",
    "    else:\n",
    "        cn.append(i)"
   ]
  },
  {
   "cell_type": "code",
   "execution_count": null,
   "metadata": {},
   "outputs": [],
   "source": []
  },
  {
   "cell_type": "code",
   "execution_count": null,
   "metadata": {},
   "outputs": [],
   "source": [
    "import pandas as p"
   ]
  },
  {
   "cell_type": "code",
   "execution_count": null,
   "metadata": {},
   "outputs": [],
   "source": [
    "chinki = open('yadein.txt','w')\n",
    "chinki.write(\"can't forget her\")\n"
   ]
  },
  {
   "cell_type": "code",
   "execution_count": null,
   "metadata": {},
   "outputs": [],
   "source": [
    "chinki = open('yadein.txt','r')\n",
    "chinki.read()"
   ]
  },
  {
   "cell_type": "code",
   "execution_count": null,
   "metadata": {},
   "outputs": [],
   "source": [
    "chinki = open('yadein.txt','a')\n",
    "chinki.write(\" because i loved her\")\n"
   ]
  },
  {
   "cell_type": "code",
   "execution_count": null,
   "metadata": {},
   "outputs": [],
   "source": [
    "chinki = open('yadein.txt','r')\n",
    "print(chinki.read())\n",
    "\n"
   ]
  },
  {
   "cell_type": "code",
   "execution_count": null,
   "metadata": {},
   "outputs": [],
   "source": [
    "chinki.close()"
   ]
  },
  {
   "cell_type": "code",
   "execution_count": null,
   "metadata": {},
   "outputs": [],
   "source": [
    "chinki.read()"
   ]
  },
  {
   "cell_type": "code",
   "execution_count": null,
   "metadata": {},
   "outputs": [],
   "source": [
    "import pandas as pd\n",
    "from warnings import filterwarnings\n",
    "filterwarnings('ignore',)"
   ]
  },
  {
   "cell_type": "code",
   "execution_count": null,
   "metadata": {},
   "outputs": [],
   "source": [
    "from sklearn.preprocessing import StandardScaler\n",
    "ss = StandardScaler()\n",
    "T1 = pd.DataFrame(ss.fit_transform(k[cn]),columns=cn)\n",
    "\n"
   ]
  },
  {
   "cell_type": "code",
   "execution_count": null,
   "metadata": {},
   "outputs": [],
   "source": [
    "k\n"
   ]
  },
  {
   "cell_type": "code",
   "execution_count": null,
   "metadata": {},
   "outputs": [],
   "source": [
    "wow = sb.regplot(k.speeding,k.total)"
   ]
  },
  {
   "cell_type": "code",
   "execution_count": null,
   "metadata": {},
   "outputs": [],
   "source": [
    "yes = \"it's callable\"\n",
    "    \n",
    "    "
   ]
  },
  {
   "cell_type": "markdown",
   "metadata": {},
   "source": [
    "# checking weather skew is present or not"
   ]
  },
  {
   "cell_type": "code",
   "execution_count": null,
   "metadata": {},
   "outputs": [],
   "source": [
    "import pandas as pd\n",
    "\n",
    "sk = pd.read_csv(r\"D:\\lib\\Cars93.csv\")\n",
    "sk"
   ]
  },
  {
   "cell_type": "code",
   "execution_count": null,
   "metadata": {},
   "outputs": [],
   "source": [
    "o = sk.skew()\n",
    "o.sort_values()"
   ]
  },
  {
   "cell_type": "code",
   "execution_count": null,
   "metadata": {},
   "outputs": [],
   "source": [
    "from numpy import log\n",
    "F = sk['Max.Price']"
   ]
  },
  {
   "cell_type": "code",
   "execution_count": null,
   "metadata": {},
   "outputs": [],
   "source": [
    "log(F).skew()"
   ]
  },
  {
   "cell_type": "code",
   "execution_count": null,
   "metadata": {},
   "outputs": [],
   "source": [
    "import seaborn as sb\n",
    "sb.distplot(sk[['MPG.city']],color='indigo')"
   ]
  },
  {
   "cell_type": "markdown",
   "metadata": {},
   "source": [
    "# types of errors ocurring "
   ]
  },
  {
   "cell_type": "code",
   "execution_count": null,
   "metadata": {},
   "outputs": [],
   "source": [
    "t = 45\n",
    "f = 45/3\n",
    "print(f).astype(F)"
   ]
  },
  {
   "cell_type": "code",
   "execution_count": null,
   "metadata": {},
   "outputs": [],
   "source": [
    "x = 10\n",
    "B = 90\n",
    "if x == f:\n",
    "    pass\n",
    "    a = f + B\n",
    "    print(a)"
   ]
  },
  {
   "cell_type": "code",
   "execution_count": null,
   "metadata": {},
   "outputs": [],
   "source": []
  },
  {
   "cell_type": "code",
   "execution_count": null,
   "metadata": {},
   "outputs": [],
   "source": [
    "g = [4,7,9,23,89,90]\n",
    "\n",
    "try:\n",
    "    if 0 and 34 in g:\n",
    "        print(\"yes its there\")\n",
    "    except:\n",
    "        print('non its not there')\n",
    "    \n",
    "    \n",
    "    "
   ]
  },
  {
   "cell_type": "code",
   "execution_count": 44,
   "metadata": {},
   "outputs": [
    {
     "name": "stdout",
     "output_type": "stream",
     "text": [
      "the price of petrol is :-106\n",
      "the distance covered by vehicles400\n",
      "the expense was 6000\n",
      "132.5\n"
     ]
    }
   ],
   "source": [
    "mileage = [80,50,30]\n",
    "\n",
    "petrol = int(input(\"the price of petrol is :-\"))\n",
    "dist = int(input(\"the distance covered by vehicles\"))\n",
    "expense = int(input(\"the expense was \"))\n",
    "\n",
    "## for car\n",
    "\n",
    "car = 500/dist*petrol\n",
    "print(car)\n",
    "\n"
   ]
  },
  {
   "cell_type": "code",
   "execution_count": null,
   "metadata": {},
   "outputs": [],
   "source": []
  }
 ],
 "metadata": {
  "kernelspec": {
   "display_name": "Python 3",
   "language": "python",
   "name": "python3"
  },
  "language_info": {
   "codemirror_mode": {
    "name": "ipython",
    "version": 3
   },
   "file_extension": ".py",
   "mimetype": "text/x-python",
   "name": "python",
   "nbconvert_exporter": "python",
   "pygments_lexer": "ipython3",
   "version": "3.7.6"
  }
 },
 "nbformat": 4,
 "nbformat_minor": 4
}
